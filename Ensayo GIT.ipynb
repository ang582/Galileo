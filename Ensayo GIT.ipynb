{
 "cells": [
  {
   "cell_type": "markdown",
   "id": "2ce0db73",
   "metadata": {},
   "source": [
    "GIT\n",
    "\n",
    "GIT es un sistema de control de versiones especialmente utilizado en desarrollo de software ya que permite almacenar copias del código a manera de snapshots con el fin de documentar quién ha hecho un cambio, cuándo lo ha hecho y cuál ha sido la modificacion indicando además los archivos que han cambiado respecto a la versión original.\n",
    "\n",
    "Fue creado por la misma persona que desarrolló Linux, Linus Torvalds. Existen distintas plataformas sobre las que se puede utilizar esta tecnología como Github o Gitlab. Además, puede utilizarse a través de la terminal en cualquier equipo que lo tenga previamente instalado.\n",
    "\n",
    "Como es común, cada proyecto está compuesto por diferentes directorios y archivos. En GIT, los directorios son llamados árboles. Además pueden existir diferentes ramas o versiones separadas para que cada miembro del equipo tenga la facilidad de actualizar el código sin temor a sobreescribir el trabajo de otras personas, por lo que para realizar una unión entre diferentes ramas existe la función \"Merge\". Cada snapshot del proyecto es equivalente a una versión\n",
    "\n",
    "Con el fin de tener una mejor forma de identificar las nuevas actualizaciones en el código, no solo se registra el usuario que la realizó sino también un comentario en el que se deberá especificar cuál ha sido el cambio. Este comentario se debe especificar previo a realizar un \"commit\" o confirmación mismo que será seguido por la instrucción \"push\" encargada de publicar la nueva actualización en el servidor central en donde se almacena el proyecto.\n",
    "\n",
    "Git permite además tener distintas ramas para un sólo proyecto. Es decir, que dentro de un mismo repositorio se pueden contar con diversas copias del mismo código sin que una afecte a la otra, con el fin de realizar pruebas o experimentos para nuevas funcionalidades.\n",
    "\n"
   ]
  },
  {
   "cell_type": "code",
   "execution_count": null,
   "id": "5737dbda",
   "metadata": {},
   "outputs": [],
   "source": [
    "%%bash\n",
    "gh repo clone ang582/Galileo"
   ]
  },
  {
   "cell_type": "code",
   "execution_count": null,
   "id": "3c2c8527",
   "metadata": {},
   "outputs": [],
   "source": []
  }
 ],
 "metadata": {
  "kernelspec": {
   "display_name": "Python 3 (ipykernel)",
   "language": "python",
   "name": "python3"
  },
  "language_info": {
   "codemirror_mode": {
    "name": "ipython",
    "version": 3
   },
   "file_extension": ".py",
   "mimetype": "text/x-python",
   "name": "python",
   "nbconvert_exporter": "python",
   "pygments_lexer": "ipython3",
   "version": "3.9.10"
  }
 },
 "nbformat": 4,
 "nbformat_minor": 5
}
