{
  "nbformat": 4,
  "nbformat_minor": 0,
  "metadata": {
    "colab": {
      "name": "Tarea Angel Cifuentes.ipynb",
      "provenance": []
    },
    "kernelspec": {
      "name": "python3",
      "display_name": "Python 3"
    },
    "language_info": {
      "name": "python"
    }
  },
  "cells": [
    {
      "cell_type": "markdown",
      "source": [
        "ejercicio : en data science y programación científica es común necesitar vectores con valores dentro de cierto intervalo, pero con sub-intervalos internos con diference espaciamiento ,por ejemplo:\n",
        "[0. , 0.1 , 0.2 , 0.3 , 0.4 , 0.5 , 0.51, 0.52, 0.53, 0.54, 0.55, 0.56, 0.57, 0.58, 0.59, 0.6 , 0.7 , 0.8 , 0.9 , 1. ]\n",
        "El primer sub-intervalo incrementa de 0.1 en 0.1 , el segundo de 0.01 en 0.01 , y el tercero de 0.1 en 0.1 nuevamente.\n",
        "Usando unicamente NumPy crea un vector de este tipo con el nombre xs .\n",
        "nota: no es permitido usar ciclos, debe realizarse con operaciones \"vectorizadas\" de numpy"
      ],
      "metadata": {
        "id": "n2AZCzGHh2_6"
      }
    },
    {
      "cell_type": "code",
      "execution_count": 2,
      "metadata": {
        "colab": {
          "base_uri": "https://localhost:8080/"
        },
        "id": "xRFVy9SNhxrC",
        "outputId": "002f7763-67e2-46e1-94fd-a0fd1e6f8fd2"
      },
      "outputs": [
        {
          "output_type": "stream",
          "name": "stdout",
          "text": [
            "[0.   0.1  0.2  0.3  0.4  0.5  0.51 0.52 0.53 0.54 0.55 0.56 0.57 0.58\n",
            " 0.59 0.6  0.7  0.8  0.9  1.  ]\n"
          ]
        }
      ],
      "source": [
        "import numpy as np\n",
        "\n",
        "# tu codigo aqui (~ 5 lineas de codigo):\n",
        "arr1 = np.linspace(0,0.5,6)\n",
        "arr2 = np.linspace(0.51,0.59,9)\n",
        "arr3 = np.linspace(0.6,1,5)\n",
        "\n",
        "arr = np.hstack((arr1,arr2,arr3))\n",
        "print(arr)"
      ]
    },
    {
      "cell_type": "markdown",
      "source": [
        "Ejercicio (parte de tarea) En este caso usamos un ciclo para ejemplificar pero ya hemos mencionado que debemos evitarlos siempre que sea posible y usar operaciones \"vectorizadas\" ya que es mucho mas rápido al utilizar código pre-compilado de C, en este ejercicio debemos remplazar el calculo de ys para hacerlo de manera \"vectorizada\" y eliminar el ciclo for.\n",
        "tip: usar slicing"
      ],
      "metadata": {
        "id": "5z4aDVIZiC5W"
      }
    },
    {
      "cell_type": "code",
      "source": [
        "import numpy as np\n",
        "import matplotlib.pyplot as plt\n",
        "\n",
        "\n",
        "sample_points = 100000 #10000\n",
        "inicio_intervalo = 0\n",
        "ruido = 0.5*np.random.randn(sample_points) #el ruido comunmente se debe a aleatoriedad o captura no exacta de info.\n",
        "x = np.linspace(inicio_intervalo,5*np.pi,sample_points) \n",
        "y = np.sin(x) + ruido\n",
        "\n",
        "#ys es \"y suavizado\", inicialmente es una copia de y\n",
        "ys =  y.copy()\n",
        "\n",
        "#Sustituyendo el ciclo for\n",
        "\n",
        "ins = np.insert(ys,0,0)\n",
        "\n",
        "ins2 = np.delete(ins, np.s_[-1:])\n",
        "\n",
        "ins3 = ys[1:]\n",
        "\n",
        "ins4 = np.append(ins3,0)\n",
        "\n",
        "ys = (ys+ins2+ins4)/3\n",
        "\n",
        "\n",
        "##Continuación\n",
        "\n",
        "plt.plot(x,y)\n",
        "plt.plot(x,ys)\n",
        "plt.xlim(inicio_intervalo,5*np.pi + 0.5)#limieteX\n",
        "plt.show()"
      ],
      "metadata": {
        "colab": {
          "base_uri": "https://localhost:8080/",
          "height": 265
        },
        "id": "DNEMLB7JiFMu",
        "outputId": "05e8219f-724d-42c1-9c4f-87ff210672aa"
      },
      "execution_count": 11,
      "outputs": [
        {
          "output_type": "display_data",
          "data": {
            "text/plain": [
              "<Figure size 432x288 with 1 Axes>"
            ],
            "image/png": "[encoded data removed]"
          },
          "metadata": {
            "needs_background": "light"
          }
        }
      ]
    },
    {
      "cell_type": "markdown",
      "source": [
        "Ejercicio Para calcular la información de una distribución de probabilidad necesitamos calcular el producto entre la información de cada posible x y su probabilidad , cada uno de estos elementos nos indica cuanta incerteza aporta cada x a la entropía de la distribución. Crea una función que calcule esto, debe recibir un vector representando a la dist. de probabilidad y devoler otro vector con el termino de entropía para cada x. Por ejemplo:\n",
        "\n",
        "calcular_entropia([0.25,0.75])\n",
        "\n",
        "Debe resultar en :\n",
        "\n",
        "[0.5 , 0.31127812]\n",
        "\n",
        "Nota: la entropía es la suma sobre estos valores, en este caso no calculamos la entropía,unicamente los termimos de su sumatoria. La entropía es:\n",
        "\n",
        "S=−∑inP(xi)log2P(xi)\n"
      ],
      "metadata": {
        "id": "RDxzfkCGkGdb"
      }
    },
    {
      "cell_type": "code",
      "source": [
        "# tu codigo aqui (~ 4 lineas de codigo)\n",
        "import numpy as np\n",
        "\n",
        "def calcEntro(s):\n",
        "  \n",
        "  return s*np.log2(s)*-1\n",
        "\n",
        "print(calcEntro(np.array([0.3,0.7])))\n"
      ],
      "metadata": {
        "colab": {
          "base_uri": "https://localhost:8080/"
        },
        "id": "ysqm2IA_kYjl",
        "outputId": "c932d7bb-ea93-413d-c68e-6976ee95ff84"
      },
      "execution_count": 13,
      "outputs": [
        {
          "output_type": "stream",
          "name": "stdout",
          "text": [
            "[0.52108968 0.36020122]\n"
          ]
        }
      ]
    },
    {
      "cell_type": "markdown",
      "source": [
        "Ejercicio : se ha determinado también que hay costos asociados a la comunicación y relación con los clientes(llamadas,mensajes electrónicos,etc) y que estos también tienen alta correlación con el monto que estos gastan en su primer més siguiendo el modelo:\n",
        "c(x)=(x2+x+log(0.0001x)−0.54x−−−−−√)/100 \n",
        "\n",
        "Cree una función para calcular este modelo sobre valores de de gasto de nuevos clientes , y luego cree una función ganancia_neta(x,g,c) donde:\n",
        "\n",
        "x = vector conteniendo los valores de gasto del primer mes para nuevos clientes.\n",
        "g = función que estima la ganancia en función de x\n",
        "c = función que estima el costo en función de x\n",
        "La función realiza el calculo simple g(x) - c(x) , ya que es posible que los modelos cambien en el tiempo es común recibir como parámetro el modelo o modelos hijos de un modelo mas grande , en este caso eso se logra recibiendo como parámetro las funciones de ganancia y costo."
      ],
      "metadata": {
        "id": "HGBZNs_nmAK0"
      }
    },
    {
      "cell_type": "code",
      "source": [
        "def ganancia(x):\n",
        "  gananc = (np.power(x,3) + 2.0*(np.power(x,2.0))+np.exp(0.0001*x) - np.sqrt(2.0*x))/50\n",
        "  return gananc\n",
        "\n",
        "def costo(x):\n",
        "  cost = (np.power(x,2)+x+np.log2(0.0001*x))-np.sqrt(0.54*x)/100\n",
        "  return cost\n",
        "\n",
        "def ganancia_neta(x,g,c):\n",
        "  resultado = g(x) - c(x)\n",
        "  return resultado\n",
        "\n",
        "print(\"Ganancia neta: \",ganancia_neta(np.array([40,90,80,50]),ganancia,costo))"
      ],
      "metadata": {
        "colab": {
          "base_uri": "https://localhost:8080/"
        },
        "id": "dszTFI1amVFF",
        "outputId": "b645a251-fa29-4521-cb34-863739cacad9"
      },
      "execution_count": 15,
      "outputs": [
        {
          "output_type": "stream",
          "name": "stdout",
          "text": [
            "Ganancia neta:  [-288.14654519 6720.61742564 4022.79868942   57.51591796]\n"
          ]
        }
      ]
    },
    {
      "cell_type": "markdown",
      "source": [
        "En muchos casos es útil usar sumas o productos acumulativos , por ejemplo:\n",
        "\n",
        "Ejemplo aplicado En un datawarehouse se tiene un modelo \"lifetime value\" en el que se almacena de manera acumulativa cuantas ganancias se han percibido a lo largo de la vida de los usuarios, un ETL en Python debe calcularlo en función de un vector que contiene de manera ordenada en el tiempo los ingresos percibidos mensualmente para cierto usuario. Podemos usar la funcion np.cumsum para esto, en este ejercicio necesitamos determinar el \"lifetime value\" de cierto usuario en su 6to mes:"
      ],
      "metadata": {
        "id": "tF_TQXMJnYve"
      }
    },
    {
      "cell_type": "code",
      "source": [
        "import numpy as np\n",
        "\n",
        "def valorLT(a):\n",
        "    ganancia = np.cumsum(a)\n",
        "    return ganancia\n",
        "    pass\n",
        "\n",
        "\n",
        "ganUsuario = np.array([10,20,35,45,50,75])\n",
        "lifeTime = valorLT(ganUsuario)\n",
        "\n",
        "print(\"Este es el lifetime value:\",lifeTime)\n",
        "print(\"Sexto mes:\",lifeTime[5])"
      ],
      "metadata": {
        "colab": {
          "base_uri": "https://localhost:8080/"
        },
        "id": "dIzKbbHVneIg",
        "outputId": "cc2096f1-3784-4a29-e2ee-4ea44c200849"
      },
      "execution_count": 19,
      "outputs": [
        {
          "output_type": "stream",
          "name": "stdout",
          "text": [
            "Este es el lifetime value: [ 10  30  65 110 160 235]\n",
            "Sexto mes: 235\n"
          ]
        }
      ]
    },
    {
      "cell_type": "markdown",
      "source": [
        "Ejercicio Usando argmax crear una función mode(x) para calcular la moda de un vector x , esta función debe devolver una tupla de 2 elementos de la forma:\n",
        "(valor,conteo)\n",
        "tip investigar y auxiliarse de otras funciones de numpy y np.argmax, no olvidar trabajar todo vectorizado, sin ciclos."
      ],
      "metadata": {
        "id": "EP78mmYusAda"
      }
    },
    {
      "cell_type": "code",
      "source": [
        "import numpy as np\n",
        "def mode(x):\n",
        "    ## tu codigo aqui (~ 3 lineas de codigo):\n",
        "    a,b = np.unique(x, return_counts=True)\n",
        "    return (a[np.argmax(b)])\n",
        "    \n",
        "    pass\n",
        "\n",
        "x = np.array([10,11,12,13,14,15,10,15,14,17,16,17,15,17,12,17])\n",
        "print(mode(x))"
      ],
      "metadata": {
        "colab": {
          "base_uri": "https://localhost:8080/"
        },
        "id": "kl-sdG2YsDrQ",
        "outputId": "52f04cb6-82f2-4f07-b4db-91156303eec4"
      },
      "execution_count": 23,
      "outputs": [
        {
          "output_type": "stream",
          "name": "stdout",
          "text": [
            "17\n"
          ]
        }
      ]
    },
    {
      "cell_type": "markdown",
      "source": [
        "Ejercicio : crear una función para calcular la entropía de una distribución de probabilidad representada como un vector. S=−∑inP(xi)log2P(xi)\n",
        "Nota: a diferencia del ejercicio anterior donde solo calculamos los términos de la entropía, en este caso si calculamos el valor completo de la entropía, que como mencionamos es una medida de incerteza en una distribución de probabilidad.\n",
        "recordatorio: no usar ciclos solo operaciones vectorizadas."
      ],
      "metadata": {
        "id": "chDmgKZWs4tT"
      }
    },
    {
      "cell_type": "code",
      "source": [
        "def entrV2(dato):\n",
        "  calculo= dato*np.log2(dato)*-1\n",
        "  return(np.sum(calculo))\n",
        "  \n",
        "entrada = np.array([0.40,0.60])\n",
        "print(entrV2(entrada))"
      ],
      "metadata": {
        "colab": {
          "base_uri": "https://localhost:8080/"
        },
        "id": "x7_MVyzCs6PL",
        "outputId": "4be705b0-1f9e-43dc-b837-351199e445a9"
      },
      "execution_count": 27,
      "outputs": [
        {
          "output_type": "stream",
          "name": "stdout",
          "text": [
            "0.9709505944546686\n"
          ]
        }
      ]
    },
    {
      "cell_type": "markdown",
      "source": [
        "#Proyección vectorial\n",
        "\n",
        "Proyección vectorial o Proyección de un vector sobre otro es la traza de una recta perpendicular \"r\" del punto inicial hasta la recta del segundo vector.\n",
        "\n",
        "Si se tienen dos vectores \"u\" y \"v\", la proyección del primero sobre el segundo, deberá realizarse trazando la recta desde el punto inicial hasta que se forme un ángulo de 90 grados entre la traza \"a\" y el vector \"v\".\n",
        "\n",
        "La fórmula dada es la siguiente:\n",
        "\n",
        "![Captura de Pantalla 2022-04-01 a la(s) 9.35.45 p. m..png](data:image/png;base64,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)"
      ],
      "metadata": {
        "id": "6fpO-D3WuD6R"
      }
    },
    {
      "cell_type": "code",
      "source": [
        "import numpy as np\n",
        "\n",
        "def calcProyVec(u,v):\n",
        "  vec = np.sqrt(sum(v**2))\n",
        "\n",
        "  proy = (np.dot(u,v)/vec**2)*v\n",
        "\n",
        "  print(\"Proyección de u sobre v: \",proy)"
      ],
      "metadata": {
        "id": "0j64hX8BuFLB"
      },
      "execution_count": 28,
      "outputs": []
    },
    {
      "cell_type": "code",
      "source": [
        "import numpy as np\n",
        "\n",
        "u = np.array([3,2,1])\n",
        "v = np.array([4,5,6])\n",
        "\n",
        "calcProyVec(u,v)"
      ],
      "metadata": {
        "colab": {
          "base_uri": "https://localhost:8080/"
        },
        "id": "XzAVRGZOuIT2",
        "outputId": "22ceb1f5-1aac-4c16-93f8-99c679fc96a0"
      },
      "execution_count": 29,
      "outputs": [
        {
          "output_type": "stream",
          "name": "stdout",
          "text": [
            "Proyección de u sobre v:  [1.45454545 1.81818182 2.18181818]\n"
          ]
        }
      ]
    },
    {
      "cell_type": "markdown",
      "source": [
        "##Interpretación de funcion calcProyVec(u,v)\n",
        "\n",
        "La función pide como parámetros dos vectores u y v en donde \"u\" será el primer vector y \"v\" será sobre el que se calculará la proyección.\n",
        "Siguiendo la fórmula para la proyección de vectores, se calcula primero la sección del denominador ||v|| (al cuadrado)\n",
        "El siguiente paso es realizar la fórmula dada a través de la función dot de Numpy que devuelve el producto de puntos de dos matrices, en este caso, u y v. Esto es dividido entre el resultado obtenido previamente de calcular la potencia de v y finalmente todo es multiplicado por v.\n",
        "\n",
        "##Aplicación\n",
        "\n",
        "La proyección de vectores se puede usar en la física, específicamente en cálculos de trabajo y fuerza."
      ],
      "metadata": {
        "id": "y2pmFYAjuOTU"
      }
    },
    {
      "cell_type": "markdown",
      "source": [
        "#Producto Cruz\n",
        "\n",
        "El producto cruzado da como resultado un vector perpendicular al plano."
      ],
      "metadata": {
        "id": "22kzNb17uZNI"
      }
    },
    {
      "cell_type": "code",
      "source": [
        "import numpy as np\n",
        "\n",
        "def prodCruz(u,v):\n",
        "  calculo = np.cross(u,v)\n",
        "\n",
        "  print(\"El producto cruz de u y v es:\",calculo)"
      ],
      "metadata": {
        "id": "rIqPoGkMuagZ"
      },
      "execution_count": 30,
      "outputs": []
    },
    {
      "cell_type": "code",
      "source": [
        "import numpy as np\n",
        "\n",
        "u = np.array([1,2])\n",
        "v = np.array([3,4])\n",
        "\n",
        "prodCruz(u,v)"
      ],
      "metadata": {
        "colab": {
          "base_uri": "https://localhost:8080/"
        },
        "id": "q3ImWgCCufby",
        "outputId": "febd53b5-6a06-498a-c93b-23951a150517"
      },
      "execution_count": 31,
      "outputs": [
        {
          "output_type": "stream",
          "name": "stdout",
          "text": [
            "El producto cruz de u y v es: -2\n"
          ]
        }
      ]
    },
    {
      "cell_type": "markdown",
      "source": [
        "##Interpretación\n",
        "\n",
        "El producto cruzado matemáticamente es la la resta de las multiplicaciones obtenidas de forma cruzada de los valores de los arreglos.\n",
        "La función prodCruz requiere dos parametros, u y v. Estos son utilizados en la función cross de numpy cuyo valor retornado se almacena en la variable cálculo. Es esta variable la que es impresa al final de la ejecución.\n",
        "\n",
        "##Uso\n",
        "\n",
        "Es utilizado para definir rutas o trayectorias"
      ],
      "metadata": {
        "id": "2ywk0xZHulZ5"
      }
    }
  ]
}